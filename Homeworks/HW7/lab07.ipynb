{
 "cells": [
  {
   "cell_type": "markdown",
   "id": "05f2e276-a41e-47eb-ae44-c9a086f1ee2f",
   "metadata": {},
   "source": [
    "# Лабораторна робота 7\n",
    "\n",
    "## Завдання 1\n",
    "\n",
    "Діедральна група $D_{20}$ має ряд нормальних підгруп: "
   ]
  },
  {
   "cell_type": "code",
   "execution_count": null,
   "id": "ef40bea7-c681-40f5-a993-37d69d1d80e9",
   "metadata": {},
   "outputs": [],
   "source": [
    "G = DihedralGroup(20)\n",
    "[N.order() for N in G.normal_subgroups()]"
   ]
  },
  {
   "cell_type": "markdown",
   "id": "da1335fa-baf4-424d-9239-5101687ac19a",
   "metadata": {},
   "source": [
    "Для кожної нормальної підгрупи $N$ побудуйте ендоморфізм $\\phi : D_{20} \\rightarrow D_{20}$ такий, що $Ker \\phi = N$. Задайте його через `PermutationGroupMorphism` і використайте метод `.kernel` як підтвердження. \n",
    "\n",
    "___Зауваження___: ядро має бути не __ізоморфне__ підгрупі, а __рівне__ їй."
   ]
  },
  {
   "cell_type": "markdown",
   "id": "03fd2b0e-8eac-43b3-87a6-2889ff896461",
   "metadata": {},
   "source": [
    "Для підгрупи порядку 40 тобто $D_{20}$ це очевидно, $\\phi(n) = 0 = 2\\pi$,  $Ker \\phi = D_{20}$  \n",
    "Для підгрупи ізоморфній $Z_{20}$ тобто групі поворотів "
   ]
  },
  {
   "cell_type": "code",
   "execution_count": null,
   "id": "5900f0a7-55bc-47e0-96e0-5e0203c751d2",
   "metadata": {},
   "outputs": [],
   "source": [
    "G = DihedralGroup(20)\n",
    "H = DihedralGroup(20)\n",
    "norm_subs = G.normal_subgroups()\n",
    "\n",
    "# D20\n",
    "print(\"D20\")\n",
    "gens = G.gens()\n",
    "phi = PermutationGroupMorphism(G, H, [H(()), H(())])\n",
    "ker_D20 = phi.kernel()\n",
    "print(ker_D20)\n",
    "print(ker_D20 == norm_subs[0]) #перевірка\n",
    "print(\"ker = \", ker_D20.structure_description())\n",
    "\n",
    "print(\"==========================\")\n",
    "\n",
    "# C20\n",
    "print(\"C20\")\n",
    "gens = G.gens()\n",
    "phi = PermutationGroupMorphism(G, H, [H(()), gens[1]])\n",
    "ker_C20 = phi.kernel()\n",
    "print(ker_C20)\n",
    "print(ker_C20 == norm_subs[1]) #перевірка\n",
    "print(\"ker = \", ker_C20.structure_description())\n",
    "\n",
    "print(\"==========================\")\n",
    "\n",
    "#D10_1\n",
    "print(\"D10_1\")\n",
    "gens = G.gens()\n",
    "phi = PermutationGroupMorphism(G, H, [gens[1], gens[1]])\n",
    "ker_D10_1 = phi.kernel()\n",
    "print(ker_D10_1)\n",
    "print(ker_D10_1 == norm_subs[3]) #перевірка\n",
    "print(\"ker = \", ker_D10_1.structure_description())\n",
    "\n",
    "print(\"==========================\")\n",
    "\n",
    "#D10_2\n",
    "print(\"D10_2\")\n",
    "gens = G.gens()\n",
    "phi = PermutationGroupMorphism(G, H, [gens[0]^10, H(())])\n",
    "ker_D10_2 = phi.kernel()\n",
    "print(ker_D10_2)\n",
    "print(ker_D10_2 == norm_subs[2]) #перевірка\n",
    "print(\"ker = \", ker_D10_2.structure_description())\n",
    "\n",
    "print(\"==========================\")\n",
    "\n",
    "#C10\n",
    "print(\"C10\")\n",
    "gens = G.gens()\n",
    "phiD10 = PermutationGroupMorphism(G, H, [gens[0]^10, gens[1]])\n",
    "ker_C10 = phiD10.kernel()\n",
    "print(ker_C10)\n",
    "print(ker_C10 == norm_subs[4]) #перевірка\n",
    "print(\"ker = \", ker_C10.structure_description())\n",
    "\n",
    "print(\"==========================\")\n",
    "\n",
    "#C5\n",
    "print(\"C5\")\n",
    "gens = G.gens()\n",
    "phi = PermutationGroupMorphism(G, H, [gens[0]^15, gens[1]^3])\n",
    "ker_C5 = phi.kernel()\n",
    "print(ker_C5)\n",
    "print(ker_C5 == norm_subs[7]) #перевірка\n",
    "print(\"ker = \", ker_C5.structure_description())\n",
    "\n",
    "print(\"==========================\")\n",
    "\n",
    "#C4\n",
    "print(\"C4\")\n",
    "gens = G.gens()\n",
    "phi = PermutationGroupMorphism(G, H, [gens[0]^4, gens[0]^9 * gens[1] ])\n",
    "ker_C4 = phi.kernel()\n",
    "print(ker_C4)\n",
    "print(ker_C4 == norm_subs[5]) #перевірка\n",
    "print(\"ker = \", ker_C4.structure_description())\n",
    "\n",
    "print(\"==========================\")\n",
    "\n",
    "# C2\n",
    "print(\"C2\")\n",
    "gens = G.gens()\n",
    "phi = PermutationGroupMorphism(G, H, [gens[0]^2, gens[1]^3])\n",
    "ker_C2 = phi.kernel()\n",
    "print(ker_C2)\n",
    "print(ker_C2 == norm_subs[6]) #перевірка\n",
    "print(\"ker = \", ker_C2.structure_description())\n",
    "\n",
    "print(\"==========================\")\n",
    "\n",
    "#nothing\n",
    "print(\"nothing\")\n",
    "gens = G.gens()\n",
    "phi = PermutationGroupMorphism(G, H, [gens[0], gens[1]])\n",
    "ker_none = phi.kernel()\n",
    "print(ker_none)\n",
    "print(ker_none == norm_subs[8]) #перевірка\n",
    "print(\"ker = \", ker_none.structure_description())"
   ]
  },
  {
   "cell_type": "code",
   "execution_count": null,
   "id": "14a49376-11a3-4897-b612-aba693e42b27",
   "metadata": {},
   "outputs": [],
   "source": [
    "def check():\n",
    "    i = 0\n",
    "    for norm_sub in G.normal_subgroups():\n",
    "        for iso_ker in [ker_D20, ker_C20, ker_D10_1, ker_D10_2, ker_C10, ker_C5, ker_C4, ker_C2, ker_none]:\n",
    "            if (norm_sub == iso_ker):\n",
    "                print(f\"{iso_ker.structure_description() } == {norm_sub.structure_description()}\") \n",
    "                \"\"\"\n",
    "                тут можна вивести без методу structure_description(), але тоді вивід перетвориться на пекло.\n",
    "                в будь якому випадку перевірка є в попередньому, тому вважаю що цього досить\n",
    "                \"\"\"\n",
    "                break\n",
    "        else:\n",
    "            print(f\"No iso_ker for normal subgroup {norm_sub}\")\n",
    "check()\n",
    "                \n",
    "        "
   ]
  },
  {
   "cell_type": "markdown",
   "id": "71c90252-f03f-460b-a980-7769d6c006fd",
   "metadata": {},
   "source": [
    "## Завдання 2"
   ]
  },
  {
   "cell_type": "markdown",
   "id": "495700c5-fe4d-4491-9bf0-b2954472b682",
   "metadata": {},
   "source": [
    "Знайдіть центр та представників класів спряженості для груп $C_{11}, D_{13}, Q_{8}, SL(3, \\mathbb{Z}_7)$. Виведіть кількість елементів в кожній групі, кількість класів спряженості та запишіть формулу для них. "
   ]
  },
  {
   "cell_type": "code",
   "execution_count": null,
   "id": "b8c59d2d-292c-48cc-bd3e-9c57e04522f7",
   "metadata": {},
   "outputs": [],
   "source": [
    "D13 = DihedralGroup(13)\n",
    "Q8 = QuaternionGroup()\n",
    "Z11 = CyclicPermutationGroup(11)\n",
    "G = SL(3, GF(7))\n",
    "def find_center(group)->list:\n",
    "    center = []\n",
    "    for a in group:\n",
    "        for g in group:\n",
    "            if (a*g != g*a):\n",
    "                break\n",
    "        else:\n",
    "            center.append(a)\n",
    "    return center\n",
    "with open (\"ker2_output.txt\", \"wt\") as f:\n",
    "    print(\"======================= Z11 center =============================\", file=f)\n",
    "    print(find_center(Z11), file=f)\n",
    "    print(\"======================= C11 conjugacy classes ===========================\", file=f)\n",
    "    print(Z11.conjugacy_classes(), file=f)\n",
    "    print(\"C11 order = \",Z11.order(),  file=f)\n",
    "    print(\"C11 conjugacy classes count = \",len(Z11.conjugacy_classes()),  file=f)\n",
    "    \n",
    "    \n",
    "    print(\"======================= D13 center =============================\", file=f)\n",
    "    print(find_center(D13), file=f)\n",
    "    print(\"======================= D13 conjugacy classes ===========================\", file=f)\n",
    "    print(D13.conjugacy_classes(), file=f)\n",
    "    print(\"D13 order = \",D13.order(),  file=f)\n",
    "    print(\"D13 conjugacy classes count = \",len(D13.conjugacy_classes()),  file=f)\n",
    "    \n",
    "    print(\"======================= Q8 center ==============================\", file=f)\n",
    "    print(find_center(Q8), file=f)\n",
    "    print(\"======================= Q8 conjugacy classes ===========================\", file=f)\n",
    "    print(Q8.conjugacy_classes(), file=f)\n",
    "    print(\"Q8 order = \",Q8.order(),  file=f)\n",
    "    print(\"Q8 conjugacy classes count = \",len(Q8.conjugacy_classes()),  file=f)\n",
    "    \n",
    "    print(\"======================= SL(3, Z7) center ==============================\", file=f)\n",
    "    print(G.center(), file=f)\n",
    "    print(\"======================= SL(3, Z7) conjugacy classes ===========================\", file=f)\n",
    "    print(G.conjugacy_classes(), file=f)\n",
    "    print(\"SL(3, Z7) order = \",G.order(),  file=f)\n",
    "    print(\"SL(3, Z7) conjugacy classes count = \",len(G.conjugacy_classes()),  file=f)\n"
   ]
  },
  {
   "cell_type": "markdown",
   "id": "347fcf55-3191-4b0d-b1ea-107aaa9ced49",
   "metadata": {},
   "source": [
    "## Завдання 3\n",
    "\n",
    "1. Побудуйте граф гіперкуба $C_4$ і знайдіть його групу автоморфізмів. Розгляньте цю групу і її дію на граф. Покажіть орбіти цієї групової дії та зробіть висновки. \n",
    "2. Знайдіть стабілізатор довільної вершини та розгляньте його як групу з дією на весь граф. Знайдіть орбіти цієї нової групової дії. Зробіть висновки в термінах гіперкуба."
   ]
  },
  {
   "cell_type": "code",
   "execution_count": null,
   "id": "c885637e-3dea-4def-888b-04d7f6793ae4",
   "metadata": {},
   "outputs": [],
   "source": [
    "G = graphs.CubeGraph(4)\n",
    "G\n",
    "aut_group = G.automorphism_group() \n",
    "aut_group.orbits()\n",
    "stab_0001 = aut_group.stabilizer('0001')\n",
    "print(stab_0001.orbits())\n",
    "stab_0011 = aut_group.stabilizer('0011')\n",
    "print(stab_0011.orbits())\n"
   ]
  },
  {
   "cell_type": "code",
   "execution_count": null,
   "id": "c6af99ab-6c53-4c32-9af8-56bae2799975",
   "metadata": {},
   "outputs": [],
   "source": [
    "G"
   ]
  },
  {
   "cell_type": "markdown",
   "id": "30c68802-eb81-44be-84a4-5ed9cb5cffe2",
   "metadata": {},
   "source": [
    "#### Аналіз отбіти стабілізатора\n",
    "По-перше варто помітити що бля обраної вершини “фіксується“ не лише вона одна, а і протилежна їй, тобто 1111 XOR обрана вершина. \n",
    "Тобто це вершина яка має Гемінгову відстань 4 до обраної.  \n",
    "По-друге у нас є цикл з вершин що мають гемінгову відстань 1 та 2 до обраної.\n",
    "По-третє є цикл з вершин що мають гемінгову відстань 3 та 4 до обраної.\n",
    "\n",
    "\n"
   ]
  },
  {
   "cell_type": "markdown",
   "id": "1a1397af-ac06-453c-9d89-87394f62ecbb",
   "metadata": {},
   "source": [
    "## Завдання 4\n",
    "\n",
    "1. Знайдіть прості графи з найменшою к-тю вершин, в яких групи автоморфізмів ізоморфні $A_2$ і $A_3$ відповідно. \n",
    "2. (додаткова) Зробіть те саме для $A_4$ i $A_5$. "
   ]
  },
  {
   "cell_type": "code",
   "execution_count": null,
   "id": "e269de4b-60b8-4939-8a69-49dc5ec1207e",
   "metadata": {},
   "outputs": [],
   "source": [
    "\n",
    "G = graphs.CompleteGraph(1)\n",
    "G.show()\n",
    "aut_group = G.automorphism_group()\n",
    "print(\"Група автоморфізмів графа G:\", aut_group)\n",
    "print(\"Порядок групи автоморфізмів:\", aut_group.order())\n",
    "print(\"Група автоморфізмів ізоморфна A3:\", aut_group.is_isomorphic(AlternatingGroup(2)))"
   ]
  },
  {
   "cell_type": "code",
   "execution_count": null,
   "id": "2a2ef59e-f02f-48b2-8216-7dd4767364e3",
   "metadata": {},
   "outputs": [],
   "source": [
    "\n",
    "G = DiGraph([(0, 1), (1, 2), (2, 0)])\n",
    "G.show()\n",
    "aut_group = G.automorphism_group()\n",
    "print(\"Група автоморфізмів графа G:\", aut_group)\n",
    "print(\"Порядок групи автоморфізмів:\", aut_group.order())\n",
    "print(\"Група автоморфізмів ізоморфна A3:\", aut_group.is_isomorphic(AlternatingGroup(3)))\n"
   ]
  },
  {
   "cell_type": "code",
   "execution_count": null,
   "id": "699ec841-78e6-4dc2-8dae-9d3d03814a34",
   "metadata": {},
   "outputs": [],
   "source": [
    "G = graphs.CycleGraph(3)\n",
    "G.add_edges([(0, 3), (2, 4), (3, 4), (0, 4), (0, 5), (1, 6), (5, 6), (1,5), (1, 7), (2, 8), (7, 8), (2, 7)])\n",
    "G.show()\n",
    "aut_group = G.automorphism_group()\n",
    "print(\"Група автоморфізмів графа G:\", aut_group)\n",
    "print(\"Порядок групи автоморфізмів:\", aut_group.order())\n",
    "print(\"Група автоморфізмів ізоморфна A3:\", aut_group.is_isomorphic(AlternatingGroup(3)))\n"
   ]
  },
  {
   "cell_type": "code",
   "execution_count": null,
   "id": "8f113ceb-c548-4884-9fd2-6aa6d313d195",
   "metadata": {},
   "outputs": [],
   "source": []
  },
  {
   "cell_type": "markdown",
   "id": "fb875714-0bd6-415d-be3e-bf77eb05541f",
   "metadata": {},
   "source": [
    "## Завдання 5\n",
    "\n",
    "Побудуйте простий граф, в якого група автоморфізмів тривіальна. "
   ]
  },
  {
   "cell_type": "code",
   "execution_count": null,
   "id": "4b9b4d71-220e-49c8-880b-6722fcd6ca68",
   "metadata": {},
   "outputs": [],
   "source": [
    "gr = graphs.CycleGraph(5)\n",
    "gr.delete_edge([1, 0])\n",
    "gr.delete_edge([0, 4])\n",
    "gr.delete_edge([1, 2])\n",
    "gr.delete_edge([3, 4])\n",
    "gr.delete_edge([2, 3])\n",
    "gr.add_edge([0, 1])\n",
    "gr.add_edge([1,3])\n",
    "gr.add_edge([1,2])\n",
    "gr.add_edge([2, 4])\n",
    "\n",
    "gr.add_edge([0, 5])\n",
    "gr.add_edge([5, 6])\n",
    "# gr.add_edge([3,4])\n",
    "group = gr.automorphism_group()\n",
    "print(group)\n",
    "gr.plot(layout = \"spring\")"
   ]
  },
  {
   "cell_type": "markdown",
   "id": "6ceca097-39c6-4eaf-8fba-2d951f9a53c5",
   "metadata": {},
   "source": [
    "## Завдання 6\n",
    "\n",
    "1. Побудуйте граф, як показано в коді нижче, і знайдіть його групу автоморфізмів. Розгляньте цю групу і її дію на граф. Покажіть орбіти цієї групової дії та зробіть висновки. \n",
    "2. Знайдіть стабілізатор довільної вершини та розгляньте його як групу з дією на весь граф. Знайдіть орбіти цієї нової групової дії. Зробіть висновки в термінах графа.\n",
    "\n",
    "_Підказка_: намалюйте граф як планарний за допомогою `.plot(layout='planar')` для кращої наочності."
   ]
  },
  {
   "cell_type": "code",
   "execution_count": null,
   "id": "2bb521fd-8570-41ec-ad71-07bddd38b02b",
   "metadata": {},
   "outputs": [],
   "source": [
    "G = graphs.CycleGraph(8)\n",
    "G.add_edges([(0, 2), (1, 3), (4, 6), (5, 7)])\n",
    "G.plot(layout='planar')"
   ]
  },
  {
   "cell_type": "code",
   "execution_count": null,
   "id": "3742f4bc-adf0-455a-be71-bd3b704c2ddb",
   "metadata": {},
   "outputs": [],
   "source": [
    "G = graphs.CycleGraph(8)\n",
    "G.add_edges([(0, 2), (1, 3), (4, 6), (5, 7)])\n",
    "aut_group = G.automorphism_group() \n",
    "aut_group.orbits()"
   ]
  },
  {
   "cell_type": "markdown",
   "id": "4cd2356c-b14c-4e6c-a2b7-254d28dc1f20",
   "metadata": {},
   "source": [
    "#### Орбіти\n",
    "Ми лише можемо сказати що кожен елемент може перейти лише в 3 інші."
   ]
  },
  {
   "cell_type": "code",
   "execution_count": null,
   "id": "5586a787-1d5f-4ad3-8dfc-b914441f1410",
   "metadata": {},
   "outputs": [],
   "source": [
    "stab_0 = aut_group.stabilizer(0)\n",
    "stab_0"
   ]
  },
  {
   "cell_type": "markdown",
   "id": "ba1cd38b-1779-4fed-ab3b-841c5d8b7eec",
   "metadata": {},
   "source": [
    "#### Стабілізатор\n",
    "По великому рахунку, стабілізатор для вершини це свого роду стабілізотор для самого графу, тобто , як можна бачити з твірних елементів (6, 5)(1, 2) міняєються лише ті вершини що ніяк не повпливають на сам граф, я стверджую що подібна поведінка стосується всіх вершин, окрім, якраз 6,5,1,2  якщо ми оберемо вершину з цих чотирьох, то в її стабілізаторі залишиться інша пара вершин, але другим елементом буде двойний цикл, і знову ж таки цей стабілізатор зробить початковий граф\n",
    "##### Підсумок  \n",
    "Якщо номер вершини не входить в другу орбіту, то її стабілізатором буде друга орбіта “розбита“ на 2 цикли, ну тобто (1, 2),(5,6)  \n",
    "якщо входить, то буде перша орбіта орбіта розбита на 2 транспозиції, тобто (0, 3)(4,7) та одна з транспозицій (1, 2),(5,6) в яку сама вершина не входить."
   ]
  },
  {
   "cell_type": "code",
   "execution_count": null,
   "id": "ccb51ebf-4327-4e88-baf2-217beeb7f967",
   "metadata": {},
   "outputs": [],
   "source": []
  }
 ],
 "metadata": {
  "kernelspec": {
   "display_name": "SageMath 10.4",
   "language": "sage",
   "name": "sagemath-10.4"
  },
  "language_info": {
   "codemirror_mode": {
    "name": "ipython",
    "version": 3
   },
   "file_extension": ".py",
   "mimetype": "text/x-python",
   "name": "python",
   "nbconvert_exporter": "python",
   "pygments_lexer": "ipython3",
   "version": "3.12.4"
  }
 },
 "nbformat": 4,
 "nbformat_minor": 5
}
