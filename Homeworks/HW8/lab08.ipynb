{
 "cells": [
  {
   "attachments": {},
   "cell_type": "markdown",
   "id": "d344deb3-66ad-4695-ac16-cddf4c362d38",
   "metadata": {},
   "source": [
    "# Лабораторна робота 8\n",
    "\n",
    "__Знайдіть к-ть різних розфарбувань кубика Рубика 2х2х2, використовуючи 10 кольорів.__\n",
    "\n",
    "\n",
    "![rubik cube](../docs/labs_assets/rubik_cube.jpg)\n",
    "\n",
    "Два розфарбування називатимуться однаковими, якщо існує послідовність рухів кубика рубика, яка одне розфарбування переводить в інше. \n",
    "\n",
    "Не обовʼязково використовувати всі 10 кольорів, тобто допустимо пофарбувати весь кубик в один колір. \n",
    "\n",
    "___Приклад___: існує 183 різних розфарбувань, використовуючи 2 кольори. "
   ]
  },
  {
   "cell_type": "code",
   "execution_count": 1,
   "id": "a8ac4995-14b4-467d-a1f3-128841eabfb9",
   "metadata": {},
   "outputs": [
    {
     "data": {
      "text/plain": [
       "88179840"
      ]
     },
     "execution_count": 1,
     "metadata": {},
     "output_type": "execute_result"
    }
   ],
   "source": [
    "G = SymmetricGroup(24)\n",
    "g1 = G('(1, 2, 4, 3)(5, 24, 9, 7)(6, 23, 10, 8)');\n",
    "g2 = G('(20, 19, 17, 18)(15,22, 11,13)(16,21,12,14)')\n",
    "g3 = G('(10, 16, 15, 9)(2, 22,18, 8)(4, 24, 20, 14)')\n",
    "g4 = G('(5, 6, 12, 11)(3,13,19,23)(1,7,17,21)')\n",
    "g5 = G('(21, 22, 24, 23) (1,11,20,10) (2,5,19,16)')\n",
    "g6 = G('(7, 8, 14, 13)(12, 3, 9, 18)(6, 4, 15, 17)')\n",
    "\n",
    "H = G.subgroup([g1, g2, g3, g4, g5, g6])\n",
    "H.order() # == 88179840\n",
    "\n"
   ]
  },
  {
   "cell_type": "code",
   "execution_count": 11,
   "id": "76127630-539a-43a3-8ab1-998027e76a72",
   "metadata": {},
   "outputs": [
    {
     "name": "stdout",
     "output_type": "stream",
     "text": [
      "Number of colorings up to rotation: 183\n",
      "Number of colorings up to rotation: 12395526079546335\n"
     ]
    }
   ],
   "source": [
    "# Define the symmetric group and rotations\n",
    "G = SymmetricGroup(24)\n",
    "g1 = G('(1, 2, 4, 3)(5, 24, 9, 7)(6, 23, 10, 8)')\n",
    "g2 = G('(20, 19, 17, 18)(15,22, 11,13)(16,21,12,14)')\n",
    "g3 = G('(10, 16, 15, 9)(2, 22,18, 8)(4, 24, 20, 14)')\n",
    "g4 = G('(5, 6, 12, 11)(3,13,19,23)(1,7,17,21)')\n",
    "g5 = G('(21, 22, 24, 23)(1,11,20,10)(2,5,19,16)')\n",
    "g6 = G('(7, 8, 14, 13)(12, 3, 9, 18)(6, 4, 15, 17)')\n",
    "\n",
    "\n",
    "H = G.subgroup([g1, g2, g3, g4, g5, g6])\n",
    "\n",
    "def cout_colorings(k, H):\n",
    "    total = 0\n",
    "    for cl in H.conjugacy_classes():\n",
    "        h = cl.representative()\n",
    "        num_cycles = len(h.cycle_type())\n",
    "        fix_h = k^num_cycles\n",
    "        total += cl.cardinality() * fix_h\n",
    "    \n",
    "    number_of_colorings = total / H.order()\n",
    "    return number_of_colorings\n",
    "\n",
    "print(\"Number of colorings up to rotation:\", cout_colorings(2, H))\n",
    "print(\"Number of colorings up to rotation:\", cout_colorings(10, H))"
   ]
  },
  {
   "cell_type": "markdown",
   "id": "ce9387f2-56a5-401d-9134-a1a0fb34527c",
   "metadata": {},
   "source": [
    "очевидно що рахувати будемо за лемою Бернсайда, тобто всі можливі розфарбування = $\\frac{1}{|G|}\\sum_{g \\in G}Stab(g)$, де Stab - кількість стабілізованих розстановок кольорів, тобто таких розстановок кольорів, які при дії $g \\in G$ візуально не зміняться. Далі доволі очевидним є те, що якщо перестановка з групи H містить m незалежних циклів, при чому, щоб ця перестаовка давала стабілізовану розстановку кольрів, всі елементи всередині незалежного циклу мають бути одного й того ж кольору (з умови задачі всі незалежні цикли можуть бути одного кольору), тому $Stab(g) = k^m: g \\in G $, де k- кількість можливих кольорів для розфарбування, а m, як я писав раньше - кількість незалежних циклів. Далі ми згадуємо що наша $G \\leq S_{n}$, а отже в один клас спряженості попадуть перестаноки з однаковим циклотипом, таким чином ми можемо явно спростити собі життя.  \n",
    "Таким чином всі можливі розфарбування = $\\frac{1}{|G|}\\sum_{[h] \\in G/\\sim}|[h]|*k^{\\text{кількість незалежних циклів } [h]}$ це і є наша фінльна формула.  \n",
    "P.S. Якщо буде не зрозуміло, то $G/\\sim$ - класи стпряженості, а $[h]$ - клас спряженості. По крайній мірі я нагуглив що їх так позначають в LaTeX\n",
    "    "
   ]
  },
  {
   "cell_type": "code",
   "execution_count": null,
   "id": "dc6010de-dcdc-471f-ba7a-0b0698134b17",
   "metadata": {},
   "outputs": [],
   "source": []
  }
 ],
 "metadata": {
  "kernelspec": {
   "display_name": "SageMath 10.4",
   "language": "sage",
   "name": "sagemath-10.4"
  },
  "language_info": {
   "codemirror_mode": {
    "name": "ipython",
    "version": 3
   },
   "file_extension": ".py",
   "mimetype": "text/x-python",
   "name": "python",
   "nbconvert_exporter": "python",
   "pygments_lexer": "ipython3",
   "version": "3.12.4"
  }
 },
 "nbformat": 4,
 "nbformat_minor": 5
}
