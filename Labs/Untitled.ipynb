{
 "cells": [
  {
   "cell_type": "code",
   "execution_count": 6,
   "id": "5b472601-ebd7-4143-903f-8d03eba65062",
   "metadata": {},
   "outputs": [
    {
     "name": "stdout",
     "output_type": "stream",
     "text": [
      "Dihedral group of order 8 as a permutation group\n"
     ]
    },
    {
     "ename": "TypeError",
     "evalue": "elements () and () of Dihedral group of order 8 as a permutation group are incompatible with operation: <built-in function add>",
     "output_type": "error",
     "traceback": [
      "\u001b[0;31m---------------------------------------------------------------------------\u001b[0m",
      "\u001b[0;31mAttributeError\u001b[0m                            Traceback (most recent call last)",
      "File \u001b[0;32m/private/var/tmp/sage-10.4-current/local/var/lib/sage/venv-python3.12.4/lib/python3.12/site-packages/sage/structure/element.pyx:1272\u001b[0m, in \u001b[0;36msage.structure.element.Element._add_ (build/cythonized/sage/structure/element.c:19321)\u001b[0;34m()\u001b[0m\n\u001b[1;32m   1271\u001b[0m try:\n\u001b[0;32m-> 1272\u001b[0m     python_op = (<object>self)._add_\n\u001b[1;32m   1273\u001b[0m except AttributeError:\n",
      "File \u001b[0;32m/private/var/tmp/sage-10.4-current/local/var/lib/sage/venv-python3.12.4/lib/python3.12/site-packages/sage/structure/element.pyx:495\u001b[0m, in \u001b[0;36msage.structure.element.Element.__getattr__ (build/cythonized/sage/structure/element.c:11828)\u001b[0;34m()\u001b[0m\n\u001b[1;32m    494\u001b[0m \"\"\"\n\u001b[0;32m--> 495\u001b[0m return self.getattr_from_category(name)\n\u001b[1;32m    496\u001b[0m \n",
      "File \u001b[0;32m/private/var/tmp/sage-10.4-current/local/var/lib/sage/venv-python3.12.4/lib/python3.12/site-packages/sage/structure/element.pyx:508\u001b[0m, in \u001b[0;36msage.structure.element.Element.getattr_from_category (build/cythonized/sage/structure/element.c:11938)\u001b[0;34m()\u001b[0m\n\u001b[1;32m    507\u001b[0m     cls = P._abstract_element_class\n\u001b[0;32m--> 508\u001b[0m return getattr_from_other_class(self, cls, name)\n\u001b[1;32m    509\u001b[0m \n",
      "File \u001b[0;32m/private/var/tmp/sage-10.4-current/local/var/lib/sage/venv-python3.12.4/lib/python3.12/site-packages/sage/cpython/getattr.pyx:363\u001b[0m, in \u001b[0;36msage.cpython.getattr.getattr_from_other_class (build/cythonized/sage/cpython/getattr.c:4461)\u001b[0;34m()\u001b[0m\n\u001b[1;32m    362\u001b[0m     dummy_error_message.name = name\n\u001b[0;32m--> 363\u001b[0m     raise AttributeError(dummy_error_message)\n\u001b[1;32m    364\u001b[0m attribute = <object>attr\n",
      "\u001b[0;31mAttributeError\u001b[0m: 'DihedralGroup_with_category' object has no attribute '_SageObject__custom_name'",
      "\nDuring handling of the above exception, another exception occurred:\n",
      "\u001b[0;31mTypeError\u001b[0m                                 Traceback (most recent call last)",
      "File \u001b[0;32m/private/var/tmp/sage-10.4-current/local/var/lib/sage/venv-python3.12.4/lib/python3.12/site-packages/sage/matrix/operation_table.py:466\u001b[0m, in \u001b[0;36mOperationTable.__init__\u001b[0;34m(self, S, operation, names, elements)\u001b[0m\n\u001b[1;32m    465\u001b[0m \u001b[38;5;28;01mtry\u001b[39;00m:\n\u001b[0;32m--> 466\u001b[0m     result \u001b[38;5;241m=\u001b[39m \u001b[38;5;28;43mself\u001b[39;49m\u001b[38;5;241;43m.\u001b[39;49m\u001b[43m_operation\u001b[49m\u001b[43m(\u001b[49m\u001b[43mg\u001b[49m\u001b[43m,\u001b[49m\u001b[43m \u001b[49m\u001b[43mh\u001b[49m\u001b[43m)\u001b[49m\n\u001b[1;32m    467\u001b[0m \u001b[38;5;28;01mexcept\u001b[39;00m \u001b[38;5;167;01mException\u001b[39;00m:\n",
      "File \u001b[0;32m/private/var/tmp/sage-10.4-current/local/var/lib/sage/venv-python3.12.4/lib/python3.12/site-packages/sage/structure/element.pyx:1224\u001b[0m, in \u001b[0;36msage.structure.element.Element.__add__ (build/cythonized/sage/structure/element.c:19004)\u001b[0;34m()\u001b[0m\n\u001b[1;32m   1223\u001b[0m if HAVE_SAME_PARENT(cl):\n\u001b[0;32m-> 1224\u001b[0m     return (<Element>left)._add_(right)\n\u001b[1;32m   1225\u001b[0m # Left and right are Sage elements => use coercion model\n",
      "File \u001b[0;32m/private/var/tmp/sage-10.4-current/local/var/lib/sage/venv-python3.12.4/lib/python3.12/site-packages/sage/structure/element.pyx:1274\u001b[0m, in \u001b[0;36msage.structure.element.Element._add_ (build/cythonized/sage/structure/element.c:19400)\u001b[0;34m()\u001b[0m\n\u001b[1;32m   1273\u001b[0m except AttributeError:\n\u001b[0;32m-> 1274\u001b[0m     raise bin_op_exception('+', self, other)\n\u001b[1;32m   1275\u001b[0m else:\n",
      "\u001b[0;31mTypeError\u001b[0m: unsupported operand parent(s) for +: 'Dihedral group of order 8 as a permutation group' and 'Dihedral group of order 8 as a permutation group'",
      "\nDuring handling of the above exception, another exception occurred:\n",
      "\u001b[0;31mTypeError\u001b[0m                                 Traceback (most recent call last)",
      "Cell \u001b[0;32mIn[6], line 8\u001b[0m\n\u001b[1;32m      6\u001b[0m \u001b[38;5;28mprint\u001b[39m(Dn)\n\u001b[1;32m      7\u001b[0m keys \u001b[38;5;241m=\u001b[39m [\u001b[38;5;124m'\u001b[39m\u001b[38;5;124m0\u001b[39m\u001b[38;5;124m'\u001b[39m, \u001b[38;5;124m'\u001b[39m\u001b[38;5;124mpi/2\u001b[39m\u001b[38;5;124m'\u001b[39m, \u001b[38;5;124m'\u001b[39m\u001b[38;5;124mpi\u001b[39m\u001b[38;5;124m'\u001b[39m, \u001b[38;5;124m'\u001b[39m\u001b[38;5;124m3pi/2\u001b[39m\u001b[38;5;124m'\u001b[39m, \u001b[38;5;124m'\u001b[39m\u001b[38;5;124mS1\u001b[39m\u001b[38;5;124m'\u001b[39m, \u001b[38;5;124m'\u001b[39m\u001b[38;5;124mS2\u001b[39m\u001b[38;5;124m'\u001b[39m, \u001b[38;5;124m'\u001b[39m\u001b[38;5;124mS3\u001b[39m\u001b[38;5;124m'\u001b[39m, \u001b[38;5;124m'\u001b[39m\u001b[38;5;124mS4\u001b[39m\u001b[38;5;124m'\u001b[39m]\n\u001b[0;32m----> 8\u001b[0m \u001b[38;5;28mprint\u001b[39m(\u001b[43mOperationTable\u001b[49m\u001b[43m(\u001b[49m\u001b[43mDn\u001b[49m\u001b[43m,\u001b[49m\u001b[43m \u001b[49m\u001b[43moperation\u001b[49m\u001b[43m \u001b[49m\u001b[38;5;241;43m=\u001b[39;49m\u001b[43m \u001b[49m\u001b[43moperator\u001b[49m\u001b[38;5;241;43m.\u001b[39;49m\u001b[43madd\u001b[49m\u001b[43m,\u001b[49m\u001b[43m \u001b[49m\u001b[43mnames\u001b[49m\u001b[43m \u001b[49m\u001b[38;5;241;43m=\u001b[39;49m\u001b[43m \u001b[49m\u001b[43mkeys\u001b[49m\u001b[43m \u001b[49m\u001b[43m)\u001b[49m)\n",
      "File \u001b[0;32m/private/var/tmp/sage-10.4-current/local/var/lib/sage/venv-python3.12.4/lib/python3.12/site-packages/sage/matrix/operation_table.py:468\u001b[0m, in \u001b[0;36mOperationTable.__init__\u001b[0;34m(self, S, operation, names, elements)\u001b[0m\n\u001b[1;32m    466\u001b[0m     result \u001b[38;5;241m=\u001b[39m \u001b[38;5;28mself\u001b[39m\u001b[38;5;241m.\u001b[39m_operation(g, h)\n\u001b[1;32m    467\u001b[0m \u001b[38;5;28;01mexcept\u001b[39;00m \u001b[38;5;167;01mException\u001b[39;00m:\n\u001b[0;32m--> 468\u001b[0m     \u001b[38;5;28;01mraise\u001b[39;00m \u001b[38;5;167;01mTypeError\u001b[39;00m(\u001b[38;5;124m'\u001b[39m\u001b[38;5;124melements \u001b[39m\u001b[38;5;132;01m%s\u001b[39;00m\u001b[38;5;124m and \u001b[39m\u001b[38;5;132;01m%s\u001b[39;00m\u001b[38;5;124m of \u001b[39m\u001b[38;5;132;01m%s\u001b[39;00m\u001b[38;5;124m are incompatible with operation: \u001b[39m\u001b[38;5;132;01m%s\u001b[39;00m\u001b[38;5;124m'\u001b[39m \u001b[38;5;241m%\u001b[39m (\n\u001b[1;32m    469\u001b[0m         g, h, S, \u001b[38;5;28mself\u001b[39m\u001b[38;5;241m.\u001b[39m_operation))\n\u001b[1;32m    471\u001b[0m \u001b[38;5;28;01mtry\u001b[39;00m:\n\u001b[1;32m    472\u001b[0m     r \u001b[38;5;241m=\u001b[39m get_row(result)\n",
      "\u001b[0;31mTypeError\u001b[0m: elements () and () of Dihedral group of order 8 as a permutation group are incompatible with operation: <built-in function add>"
     ]
    }
   ],
   "source": [
    "from sage.groups.group import AbelianGroup\n",
    "from sage.groups.group import FiniteGroup\n",
    "from sage.matrix.operation_table import OperationTable\n",
    "\n",
    "Dn = DihedralGroup(4)\n",
    "print(Dn)\n",
    "keys = ['0', 'pi/2', 'pi', '3pi/2', 'S1', 'S2', 'S3', 'S4']\n",
    "print(OperationTable(Dn, operation = operator.add, names = keys ))"
   ]
  },
  {
   "cell_type": "code",
   "execution_count": null,
   "id": "1ff8e430-64ae-4a76-9380-91968e92ee35",
   "metadata": {},
   "outputs": [],
   "source": []
  }
 ],
 "metadata": {
  "kernelspec": {
   "display_name": "SageMath 10.4",
   "language": "sage",
   "name": "sagemath-10.4"
  },
  "language_info": {
   "codemirror_mode": {
    "name": "ipython",
    "version": 3
   },
   "file_extension": ".py",
   "mimetype": "text/x-python",
   "name": "python",
   "nbconvert_exporter": "python",
   "pygments_lexer": "ipython3",
   "version": "3.12.4"
  }
 },
 "nbformat": 4,
 "nbformat_minor": 5
}
