{
 "cells": [
  {
   "cell_type": "code",
   "execution_count": 1,
   "id": "747110dd-3487-4f2e-b38e-6084255c9ae8",
   "metadata": {},
   "outputs": [
    {
     "name": "stdout",
     "output_type": "stream",
     "text": [
      "[1 0]\n",
      "[0 1]\n"
     ]
    },
    {
     "data": {
      "text/plain": [
       "88179840"
      ]
     },
     "execution_count": 1,
     "metadata": {},
     "output_type": "execute_result"
    }
   ],
   "source": [
    "m1 = Matrix(QQ, [[1, 1],[0, 1]])\n",
    "m2 = Matrix(QQ, [[-1, 0],[0, 1]])\n",
    "# print(\"+++++++++++ m1 ^ i +++++++++++\")\n",
    "# for i in range(10):\n",
    "#     print(m1^i)\n",
    "#     print(\"<===============>\")\n",
    "# print(\"+++++++++++ m1 ^ -i +++++++++++\")\n",
    "# for i in range(10):\n",
    "#     print(m1^-i)\n",
    "#     print(\"<===============>\")\n",
    "# print(\"+++++++++++ m2 +++++++++++\")\n",
    "# for i in range(10):\n",
    "#     print(m2^i)\n",
    "#     print(\"<===============>\")\n",
    "\n",
    "# for i in range(-10,10):\n",
    "#     for j in range(2):\n",
    "#         print(i, j)\n",
    "#         print(m1^i * m2^j)\n",
    "\n",
    "\n",
    "var('n')\n",
    "var('k')\n",
    "var('l')\n",
    "m1_ = Matrix([[1, n],[0, 1]])\n",
    "m2_ = Matrix([[-1, n],[0, 1]])\n",
    "\n",
    "# print(m1_ * m2_)\n",
    "# print(m1_^2 * m2_)\n",
    "print(m2_^2)\n",
    "# print(m1_^k * m2_^l)\n",
    "\n",
    "# [[23, 10, 8, 6], [24, 9, 7, 5], [1, 2, 3, 4]]\n",
    "G = SymmetricGroup(24)\n",
    "g1 = G('(1, 2, 4, 3)(24, 9, 7, 5)(23, 10, 8, 6)')\n",
    "g2 = G('(20, 19, 17, 18)(15,22, 11,13)(16,21,12,14)')\n",
    "g3 = G('(10, 16, 15, 9)(2, 22,18, 8)(4, 24, 20, 14)')\n",
    "g4 = G('(5, 6, 12, 11)(3,13,19,23)(1,7,17,21)')\n",
    "g5 = G('(21, 22, 24, 23) (1,11,20,10) (2,5,19,16)')\n",
    "g6 = G('(7, 8, 14, 13)(12, 3, 9, 18)(6, 4, 15, 17)')\n",
    "H = G.subgroup([g1, g2, g3, g4, g5, g6])\n",
    "H.order()"
   ]
  },
  {
   "cell_type": "code",
   "execution_count": 3,
   "id": "b32a720e-d759-45cc-9a8b-be7c41384d88",
   "metadata": {},
   "outputs": [
    {
     "name": "stdout",
     "output_type": "stream",
     "text": [
      "execution time: 215.782292842865 seconds\n"
     ]
    }
   ],
   "source": [
    "from math import lcm\n",
    "import time\n",
    "start_time = time.time()\n",
    "\n",
    "def is_k_in_Sn(n, k):\n",
    "    lst_el = list(range(1, n+1))\n",
    "    if lcm(*lst_el) % k != 0:\n",
    "        return False\n",
    "    for i in range(1, n+1):\n",
    "        for combination in combinations(lst_el, i):\n",
    "            if lcm(*combination) == k:\n",
    "                return True\n",
    "    return False\n",
    "\n",
    "\n",
    "# n = int(input())\n",
    "n = 1000000\n",
    "k = 92384093284230984902840823094\n",
    "is_k_in_Sn(n, k)\n",
    "end_time = time.time()\n",
    "print(f\"execution time: {(end_time - start_time)} seconds\")"
   ]
  },
  {
   "cell_type": "code",
   "execution_count": null,
   "id": "a0f181b0-84b6-4f97-bfd8-778fb1093a26",
   "metadata": {},
   "outputs": [],
   "source": []
  },
  {
   "cell_type": "code",
   "execution_count": null,
   "id": "2d0d3781-4823-45bc-b87f-a32675f6fa19",
   "metadata": {},
   "outputs": [],
   "source": []
  }
 ],
 "metadata": {
  "kernelspec": {
   "display_name": "SageMath 10.4",
   "language": "sage",
   "name": "sagemath-10.4"
  },
  "language_info": {
   "codemirror_mode": {
    "name": "ipython",
    "version": 3
   },
   "file_extension": ".py",
   "mimetype": "text/x-python",
   "name": "python",
   "nbconvert_exporter": "python",
   "pygments_lexer": "ipython3",
   "version": "3.12.4"
  }
 },
 "nbformat": 4,
 "nbformat_minor": 5
}
