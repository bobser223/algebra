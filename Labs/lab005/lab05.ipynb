{
 "cells": [
  {
   "cell_type": "markdown",
   "id": "87d00ea2-30cf-45cf-afd1-168da95996af",
   "metadata": {},
   "source": [
    "# "
   ]
  },
  {
   "cell_type": "code",
   "execution_count": 1,
   "id": "349579da-0873-472b-b93d-d76958c725e5",
   "metadata": {},
   "outputs": [
    {
     "data": {
      "text/plain": [
       "[[(), (1,2)], [(2,3), (1,3,2)], [(1,2,3), (1,3)]]"
      ]
     },
     "execution_count": 1,
     "metadata": {},
     "output_type": "execute_result"
    }
   ],
   "source": [
    "G = SymmetricGroup(3)\n",
    "a = G('(1, 2)')\n",
    "H = G.subgroup([a])\n",
    "rc = G.cosets(H, side='right'); rc"
   ]
  },
  {
   "cell_type": "code",
   "execution_count": 2,
   "id": "ed92287c-089d-474f-8e5e-d68a46cae36d",
   "metadata": {},
   "outputs": [
    {
     "data": {
      "text/plain": [
       "[[(), (1,2)], [(2,3), (1,2,3)], [(1,3,2), (1,3)]]"
      ]
     },
     "execution_count": 2,
     "metadata": {},
     "output_type": "execute_result"
    }
   ],
   "source": [
    "lc = G.cosets(H, side='left'); lc"
   ]
  },
  {
   "cell_type": "code",
   "execution_count": 3,
   "id": "26a7b2ab-1e7e-4f21-b903-7edbba02130d",
   "metadata": {},
   "outputs": [
    {
     "data": {
      "text/plain": [
       "[[(), (1,2,3), (1,3,2)], [(2,3), (1,3), (1,2)]]"
      ]
     },
     "execution_count": 3,
     "metadata": {},
     "output_type": "execute_result"
    }
   ],
   "source": [
    "G = SymmetricGroup(3)\n",
    "a = G('(1,2, 3)')\n",
    "H = G.subgroup([a])\n",
    "rc = G.cosets(H, side='right'); rc"
   ]
  },
  {
   "cell_type": "code",
   "execution_count": 4,
   "id": "bbc06f79-f6a5-443f-a08e-8c8c03051375",
   "metadata": {},
   "outputs": [
    {
     "data": {
      "text/plain": [
       "[[(), (1,2,3), (1,3,2)], [(2,3), (1,2), (1,3)]]"
      ]
     },
     "execution_count": 4,
     "metadata": {},
     "output_type": "execute_result"
    }
   ],
   "source": [
    "lc = G.cosets(H, side='left'); lc"
   ]
  },
  {
   "cell_type": "code",
   "execution_count": 5,
   "id": "e34d719d-2d5b-4339-a572-346557933f9d",
   "metadata": {},
   "outputs": [
    {
     "data": {
      "text/plain": [
       "False"
      ]
     },
     "execution_count": 5,
     "metadata": {},
     "output_type": "execute_result"
    }
   ],
   "source": [
    "rc == lc # false, but it's incorrect answer"
   ]
  },
  {
   "cell_type": "code",
   "execution_count": 7,
   "id": "585aee6f-1bed-4463-8492-a6c1fcdfdb93",
   "metadata": {},
   "outputs": [
    {
     "data": {
      "text/plain": [
       "[[(), (1,2,3), (1,3,2)], [(2,3), (1,2), (1,3)]]"
      ]
     },
     "execution_count": 7,
     "metadata": {},
     "output_type": "execute_result"
    }
   ],
   "source": [
    "rc_sorted = sorted ([sorted(coset) for coset in rc])\n",
    "rc_sorted"
   ]
  },
  {
   "cell_type": "code",
   "execution_count": 8,
   "id": "9115a86c-2c39-4e70-86c0-fa582f423f53",
   "metadata": {},
   "outputs": [
    {
     "data": {
      "text/plain": [
       "[[(), (1,2,3), (1,3,2)], [(2,3), (1,2), (1,3)]]"
      ]
     },
     "execution_count": 8,
     "metadata": {},
     "output_type": "execute_result"
    }
   ],
   "source": [
    "lc_sorted = sorted ([sorted(coset) for coset in lc])\n",
    "lc_sorted"
   ]
  },
  {
   "cell_type": "code",
   "execution_count": 9,
   "id": "5e82d13d-cc02-4f4b-9f50-9dec6fa3fb0d",
   "metadata": {},
   "outputs": [
    {
     "data": {
      "text/plain": [
       "True"
      ]
     },
     "execution_count": 9,
     "metadata": {},
     "output_type": "execute_result"
    }
   ],
   "source": [
    "rc_sorted == lc_sorted"
   ]
  },
  {
   "cell_type": "code",
   "execution_count": 23,
   "id": "a56698ef-7235-4c5d-b42a-0e8c978162b1",
   "metadata": {},
   "outputs": [
    {
     "name": "stdout",
     "output_type": "stream",
     "text": [
      "(1,2,3,4)\n",
      "[(), (1,2,3,4), (1,3)(2,4), (1,4,3,2)]\n"
     ]
    },
    {
     "data": {
      "text/plain": [
       "[[(), (1,2,3,4), (1,3)(2,4), (1,4,3,2)],\n",
       " [(3,4), (1,2,4), (1,4,2,3), (1,3,2)],\n",
       " [(2,3), (1,3,4), (1,2,4,3), (1,4,2)],\n",
       " [(2,3,4), (1,3,2,4), (1,4,3), (1,2)],\n",
       " [(2,4,3), (1,4), (1,2,3), (1,3,4,2)],\n",
       " [(2,4), (1,4)(2,3), (1,3), (1,2)(3,4)]]"
      ]
     },
     "execution_count": 23,
     "metadata": {},
     "output_type": "execute_result"
    }
   ],
   "source": [
    "G = SymmetricGroup(4)\n",
    "a = G('(1, 2, 3, 4)')\n",
    "print(a)\n",
    "H = G.subgroup([a])\n",
    "print(H.list())\n",
    "rc4 = G.cosets(H, side='right'); rc"
   ]
  },
  {
   "cell_type": "code",
   "execution_count": 25,
   "id": "5879a421-9392-460d-a298-92e77a6a1032",
   "metadata": {},
   "outputs": [
    {
     "name": "stdout",
     "output_type": "stream",
     "text": [
      "[[(), (3,4), (1,2), (1,2)(3,4)], [(2,3), (2,3,4), (1,3,2), (1,3,4,2)], [(2,4,3), (2,4), (1,4,3,2), (1,4,2)], [(1,2,3), (1,2,3,4), (1,3), (1,3,4)], [(1,2,4,3), (1,2,4), (1,4,3), (1,4)], [(1,3)(2,4), (1,3,2,4), (1,4,2,3), (1,4)(2,3)]]\n",
      "[[(), (3,4), (1,2), (1,2)(3,4)], [(2,3), (2,4,3), (1,2,3), (1,2,4,3)], [(2,3,4), (2,4), (1,2,3,4), (1,2,4)], [(1,3,2), (1,4,3,2), (1,3), (1,4,3)], [(1,3,4,2), (1,4,2), (1,3,4), (1,4)], [(1,3)(2,4), (1,4,2,3), (1,3,2,4), (1,4)(2,3)]]\n"
     ]
    }
   ],
   "source": [
    "G = SymmetricGroup(4)\n",
    "H = KleinFourGroup()\n",
    "rc = G.cosets(H, side='right');\n",
    "lc = G.cosets(H, side='left');\n",
    "print(rc)\n",
    "print(lc)"
   ]
  },
  {
   "cell_type": "code",
   "execution_count": 27,
   "id": "fe57360a-b137-46c2-ac65-1d8768cc29f8",
   "metadata": {},
   "outputs": [
    {
     "data": {
      "text/plain": [
       "[(), (1,3,2), (1,2,3), (2,3), (1,3), (1,2)]"
      ]
     },
     "execution_count": 27,
     "metadata": {},
     "output_type": "execute_result"
    }
   ],
   "source": [
    "a = G('(1, 2, 3)')\n",
    "b = G('(1,2)')\n",
    "S = G.subgroup([a, b])\n",
    "list(S)"
   ]
  },
  {
   "cell_type": "code",
   "execution_count": 28,
   "id": "242c141a-9ce1-440f-904e-f396eee2b366",
   "metadata": {},
   "outputs": [],
   "source": [
    "A4 = AlternatingGroup(4)\n",
    "s1 = A4('(1,2)(3,4)')\n",
    "s2 = A4('(1, 3)(2, 4)')\n",
    "s3 = A4('(1, 4)(2, 3)')\n",
    "K4 = A4.subgroup([s1, s2, s3])\n",
    "\n"
   ]
  },
  {
   "cell_type": "code",
   "execution_count": 29,
   "id": "9ef57b83-fd1a-4417-9819-8560bbe95b38",
   "metadata": {},
   "outputs": [
    {
     "data": {
      "text/plain": [
       "True"
      ]
     },
     "execution_count": 29,
     "metadata": {},
     "output_type": "execute_result"
    }
   ],
   "source": [
    "K4.is_isomorphic(KleinFourGroup())"
   ]
  },
  {
   "cell_type": "code",
   "execution_count": 30,
   "id": "863e15b8-47fd-46b4-b437-68ea0999aa51",
   "metadata": {},
   "outputs": [
    {
     "data": {
      "text/plain": [
       "True"
      ]
     },
     "execution_count": 30,
     "metadata": {},
     "output_type": "execute_result"
    }
   ],
   "source": [
    "K4.is_normal(A4)"
   ]
  },
  {
   "cell_type": "code",
   "execution_count": 31,
   "id": "906fdf7c-081f-4bc7-bf18-08a228ba6d27",
   "metadata": {},
   "outputs": [
    {
     "data": {
      "text/plain": [
       "Permutation Group with generators [(1,2,3)]"
      ]
     },
     "execution_count": 31,
     "metadata": {},
     "output_type": "execute_result"
    }
   ],
   "source": [
    "Factor = A4.quotient(K4)\n",
    "Factor"
   ]
  },
  {
   "cell_type": "code",
   "execution_count": 33,
   "id": "7056479f-b579-4c2b-aa93-f4a2563f6562",
   "metadata": {},
   "outputs": [
    {
     "data": {
      "text/plain": [
       "3"
      ]
     },
     "execution_count": 33,
     "metadata": {},
     "output_type": "execute_result"
    }
   ],
   "source": [
    "Factor.order()"
   ]
  },
  {
   "cell_type": "markdown",
   "id": "bc8c6cae-91ea-4e50-9d5a-be1bbc5728d7",
   "metadata": {},
   "source": [
    "### HEAD"
   ]
  },
  {
   "cell_type": "code",
   "execution_count": 35,
   "id": "18661a6b-da9a-4fb6-8b5c-63b254130bb3",
   "metadata": {},
   "outputs": [
    {
     "data": {
      "text/plain": [
       "[(), (1,2,3), (1,3,2)]"
      ]
     },
     "execution_count": 35,
     "metadata": {},
     "output_type": "execute_result"
    }
   ],
   "source": [
    "list(Factor)"
   ]
  },
  {
   "cell_type": "code",
   "execution_count": 36,
   "id": "f7e04ab9-6ac5-4655-bacd-f61ae4b758fb",
   "metadata": {},
   "outputs": [
    {
     "data": {
      "text/plain": [
       "[Subgroup generated by [()] of (Alternating group of order 4!/2 as a permutation group),\n",
       " Subgroup generated by [(1,2)(3,4)] of (Alternating group of order 4!/2 as a permutation group),\n",
       " Subgroup generated by [(1,3)(2,4)] of (Alternating group of order 4!/2 as a permutation group),\n",
       " Subgroup generated by [(1,4)(2,3)] of (Alternating group of order 4!/2 as a permutation group),\n",
       " Subgroup generated by [(2,4,3)] of (Alternating group of order 4!/2 as a permutation group),\n",
       " Subgroup generated by [(1,2,3)] of (Alternating group of order 4!/2 as a permutation group),\n",
       " Subgroup generated by [(1,4,2)] of (Alternating group of order 4!/2 as a permutation group),\n",
       " Subgroup generated by [(1,3,4)] of (Alternating group of order 4!/2 as a permutation group),\n",
       " Subgroup generated by [(1,3)(2,4), (1,2)(3,4)] of (Alternating group of order 4!/2 as a permutation group),\n",
       " Subgroup generated by [(1,3)(2,4), (1,2)(3,4), (2,4,3)] of (Alternating group of order 4!/2 as a permutation group)]"
      ]
     },
     "execution_count": 36,
     "metadata": {},
     "output_type": "execute_result"
    }
   ],
   "source": [
    "A4.subgroups()"
   ]
  },
  {
   "cell_type": "code",
   "execution_count": 37,
   "id": "72e4c7d4-ffec-408f-ab54-2f30357d81fb",
   "metadata": {},
   "outputs": [
    {
     "name": "stdout",
     "output_type": "stream",
     "text": [
      "Subgroup generated by [()] of (Alternating group of order 4!/2 as a permutation group) : True\n",
      "Subgroup generated by [(1,2)(3,4)] of (Alternating group of order 4!/2 as a permutation group) : False\n",
      "Subgroup generated by [(1,3)(2,4)] of (Alternating group of order 4!/2 as a permutation group) : False\n",
      "Subgroup generated by [(1,4)(2,3)] of (Alternating group of order 4!/2 as a permutation group) : False\n",
      "Subgroup generated by [(2,4,3)] of (Alternating group of order 4!/2 as a permutation group) : False\n",
      "Subgroup generated by [(1,2,3)] of (Alternating group of order 4!/2 as a permutation group) : False\n",
      "Subgroup generated by [(1,4,2)] of (Alternating group of order 4!/2 as a permutation group) : False\n",
      "Subgroup generated by [(1,3,4)] of (Alternating group of order 4!/2 as a permutation group) : False\n",
      "Subgroup generated by [(1,3)(2,4), (1,2)(3,4)] of (Alternating group of order 4!/2 as a permutation group) : True\n",
      "Subgroup generated by [(1,3)(2,4), (1,2)(3,4), (2,4,3)] of (Alternating group of order 4!/2 as a permutation group) : True\n"
     ]
    }
   ],
   "source": [
    "N = A4.subgroups()\n",
    "for T in N: print(T, \":\", T.is_normal(A4))"
   ]
  },
  {
   "cell_type": "code",
   "execution_count": 38,
   "id": "f2f079eb-e7f3-4d92-967a-262f417f9c00",
   "metadata": {},
   "outputs": [
    {
     "data": {
      "text/plain": [
       "[1, 2, 2, 2, 3, 3, 3, 3, 4, 12]"
      ]
     },
     "execution_count": 38,
     "metadata": {},
     "output_type": "execute_result"
    }
   ],
   "source": [
    "N4 = A4.subgroups()\n",
    "[H.order() for H in N4]"
   ]
  },
  {
   "cell_type": "code",
   "execution_count": 39,
   "id": "d552a667-de0f-443a-be45-91efab925483",
   "metadata": {},
   "outputs": [
    {
     "data": {
      "text/plain": [
       "False"
      ]
     },
     "execution_count": 39,
     "metadata": {},
     "output_type": "execute_result"
    }
   ],
   "source": [
    "A4.is_simple()"
   ]
  },
  {
   "cell_type": "code",
   "execution_count": 42,
   "id": "507b5b0a-e0b7-4f71-ba8a-354d001f192a",
   "metadata": {},
   "outputs": [],
   "source": [
    "C = A4.cosets(K4) # всі класи суміжності"
   ]
  },
  {
   "cell_type": "code",
   "execution_count": 43,
   "id": "0a52c4f0-9225-4d19-9374-e6906537f6cb",
   "metadata": {},
   "outputs": [],
   "source": [
    "product = C[2][0]*C[1][0] # Добуток класів суміжності"
   ]
  },
  {
   "cell_type": "code",
   "execution_count": 44,
   "id": "340d5826-92a9-4411-8088-2bb5567d803c",
   "metadata": {},
   "outputs": [
    {
     "data": {
      "text/plain": [
       "[0]"
      ]
     },
     "execution_count": 44,
     "metadata": {},
     "output_type": "execute_result"
    }
   ],
   "source": [
    "[i for i in srange(len(C)) if product in C[i]] # шукаємо клас в якому є наш добуток"
   ]
  },
  {
   "cell_type": "code",
   "execution_count": 59,
   "id": "f4733223-89cb-402f-b052-db69ac6fe8f1",
   "metadata": {},
   "outputs": [],
   "source": [
    "def coset_product(i, j, C):\n",
    "    p = C[i][0]*C[j][0]\n",
    "    c = [k for k in srange(len(C)) if p in C[k]]\n",
    "    return c[0]"
   ]
  },
  {
   "cell_type": "code",
   "execution_count": 60,
   "id": "de051895-ea14-4d67-9ca2-e7c6e42453dc",
   "metadata": {},
   "outputs": [
    {
     "data": {
      "text/plain": [
       "0"
      ]
     },
     "execution_count": 60,
     "metadata": {},
     "output_type": "execute_result"
    }
   ],
   "source": [
    "coset_product(1, 2, C)"
   ]
  },
  {
   "cell_type": "markdown",
   "id": "37399176-1f7f-41c1-a2dd-f2e5f9975cde",
   "metadata": {},
   "source": [
    "$\\mathcal{\\alpha}$ $\\mathcal{S}_{3}$"
   ]
  },
  {
   "cell_type": "code",
   "execution_count": null,
   "id": "c4f469e3-2a6c-4892-9015-df4ad9a8d3eb",
   "metadata": {},
   "outputs": [],
   "source": []
  }
 ],
 "metadata": {
  "kernelspec": {
   "display_name": "SageMath 10.4",
   "language": "sage",
   "name": "sagemath-10.4"
  },
  "language_info": {
   "codemirror_mode": {
    "name": "ipython",
    "version": 3
   },
   "file_extension": ".py",
   "mimetype": "text/x-python",
   "name": "python",
   "nbconvert_exporter": "python",
   "pygments_lexer": "ipython3",
   "version": "3.12.4"
  }
 },
 "nbformat": 4,
 "nbformat_minor": 5
}
